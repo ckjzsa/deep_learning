{
 "cells": [
  {
   "cell_type": "code",
   "execution_count": 1,
   "metadata": {},
   "outputs": [],
   "source": [
    "import numpy as np\n",
    "import matplotlib.pyplot as plt\n",
    "import pandas as pd\n",
    "import torch\n",
    "import torch.nn as nn\n",
    "from torch.autograd import Variable\n",
    "from sklearn.preprocessing import MinMaxScaler"
   ]
  },
  {
   "cell_type": "code",
   "execution_count": 2,
   "metadata": {},
   "outputs": [
    {
     "data": {
      "text/html": [
       "<div>\n",
       "<style scoped>\n",
       "    .dataframe tbody tr th:only-of-type {\n",
       "        vertical-align: middle;\n",
       "    }\n",
       "\n",
       "    .dataframe tbody tr th {\n",
       "        vertical-align: top;\n",
       "    }\n",
       "\n",
       "    .dataframe thead th {\n",
       "        text-align: right;\n",
       "    }\n",
       "</style>\n",
       "<table border=\"1\" class=\"dataframe\">\n",
       "  <thead>\n",
       "    <tr style=\"text-align: right;\">\n",
       "      <th></th>\n",
       "      <th>Month</th>\n",
       "      <th>Passengers</th>\n",
       "    </tr>\n",
       "  </thead>\n",
       "  <tbody>\n",
       "    <tr>\n",
       "      <th>0</th>\n",
       "      <td>1949-01</td>\n",
       "      <td>112</td>\n",
       "    </tr>\n",
       "    <tr>\n",
       "      <th>1</th>\n",
       "      <td>1949-02</td>\n",
       "      <td>118</td>\n",
       "    </tr>\n",
       "    <tr>\n",
       "      <th>2</th>\n",
       "      <td>1949-03</td>\n",
       "      <td>132</td>\n",
       "    </tr>\n",
       "    <tr>\n",
       "      <th>3</th>\n",
       "      <td>1949-04</td>\n",
       "      <td>129</td>\n",
       "    </tr>\n",
       "    <tr>\n",
       "      <th>4</th>\n",
       "      <td>1949-05</td>\n",
       "      <td>121</td>\n",
       "    </tr>\n",
       "  </tbody>\n",
       "</table>\n",
       "</div>"
      ],
      "text/plain": [
       "     Month  Passengers\n",
       "0  1949-01         112\n",
       "1  1949-02         118\n",
       "2  1949-03         132\n",
       "3  1949-04         129\n",
       "4  1949-05         121"
      ]
     },
     "execution_count": 2,
     "metadata": {},
     "output_type": "execute_result"
    }
   ],
   "source": [
    "training_data = pd.read_csv('airline-passengers.csv')\n",
    "training_data.head()"
   ]
  },
  {
   "cell_type": "code",
   "execution_count": 3,
   "metadata": {},
   "outputs": [
    {
     "data": {
      "text/plain": [
       "[<matplotlib.lines.Line2D at 0x7faa33d7cee0>]"
      ]
     },
     "execution_count": 3,
     "metadata": {},
     "output_type": "execute_result"
    },
    {
     "data": {
      "image/png": "[encoded data removed]",
      "text/plain": [
       "<Figure size 432x288 with 1 Axes>"
      ]
     },
     "metadata": {
      "needs_background": "light"
     },
     "output_type": "display_data"
    }
   ],
   "source": [
    "plt.plot(training_data.iloc[:, 1:].values)"
   ]
  },
  {
   "cell_type": "code",
   "execution_count": 4,
   "metadata": {},
   "outputs": [],
   "source": [
    "def scaling_window(data, seq_length):\n",
    "    x = []\n",
    "    y = []\n",
    "    for i in range(len(data)-seq_length-1):\n",
    "        x_ = data[i:i+seq_length]\n",
    "        y_ = data[i+seq_length]\n",
    "        x.append(x_)\n",
    "        y.append(y_)\n",
    "    \n",
    "    return np.array(x), np.array(y)\n",
    "\n",
    "\n",
    "scaler = MinMaxScaler()\n",
    "training_data = scaler.fit_transform(training_data.iloc[:, 1:].values)\n",
    "\n",
    "seq_length = 4\n",
    "x, y = scaling_window(training_data, seq_length)\n",
    "\n",
    "train_size = int(len(y) * 0.7)\n",
    "test_size = len(y) - train_size\n",
    "\n",
    "data_X = Variable(torch.Tensor(x))\n",
    "data_y = Variable(torch.Tensor(y))\n",
    "\n",
    "train_X = Variable(torch.Tensor(x[0:train_size]))\n",
    "train_y = Variable(torch.Tensor(y[0:train_size]))\n",
    "\n",
    "test_X = Variable(torch.Tensor(x[train_size:]))\n",
    "test_y = Variable(torch.Tensor(y[train_size:]))"
   ]
  },
  {
   "cell_type": "code",
   "execution_count": 9,
   "metadata": {},
   "outputs": [],
   "source": [
    "class LSTM(nn.Module):\n",
    "    def __init__(self, num_class, input_size, hidden_size, num_layers):\n",
    "        super(LSTM, self).__init__()\n",
    "        self.num_class = num_class\n",
    "        self.num_layers = num_layers\n",
    "        self.input_size = input_size\n",
    "        self.hidden_size = hidden_size\n",
    "        self.seq_length = seq_length\n",
    "        \n",
    "        self.lstm = nn.LSTM(input_size=input_size, \n",
    "                            hidden_size=hidden_size,\n",
    "                            num_layers=num_layers, batch_first=True)\n",
    "        self.fc = nn.Linear(hidden_size, num_class)\n",
    "    \n",
    "    def forward(self, x):\n",
    "        h_0 = Variable(torch.zeros(self.num_layers, x.size(0), self.hidden_size))\n",
    "        c_0 = Variable(torch.zeros(self.num_layers, x.size(0), self.hidden_size))\n",
    "        \n",
    "        ula, (h_, c_) = self.lstm(x, (h_0, c_0))\n",
    "        h_ = h_[1].view(-1, self.hidden_size)  # h_[1]为第2个layer的数据\n",
    "        out = self.fc(h_)\n",
    "        return out"
   ]
  },
  {
   "cell_type": "code",
   "execution_count": 17,
   "metadata": {},
   "outputs": [
    {
     "name": "stdout",
     "output_type": "stream",
     "text": [
      "epoch 0, loss 0.12471567094326019\n",
      "epoch 99, loss 0.0032280615996569395\n",
      "epoch 198, loss 0.001769705326296389\n",
      "epoch 297, loss 0.001728131901472807\n",
      "epoch 396, loss 0.0016976463375613093\n",
      "epoch 495, loss 0.0016562670934945345\n",
      "epoch 594, loss 0.00168159743770957\n",
      "epoch 693, loss 0.0014628272037953138\n",
      "epoch 792, loss 0.0011368639534339309\n",
      "epoch 891, loss 0.0010158575605601072\n",
      "epoch 990, loss 0.000738851202186197\n",
      "epoch 1089, loss 0.000590838841162622\n",
      "epoch 1188, loss 0.0006158127798698843\n",
      "epoch 1287, loss 0.0003923703625332564\n",
      "epoch 1386, loss 0.0003353693464305252\n",
      "epoch 1485, loss 0.000285969115793705\n",
      "epoch 1584, loss 0.00017487816512584686\n",
      "epoch 1683, loss 0.0001310208172071725\n",
      "epoch 1782, loss 0.0001114096085075289\n",
      "epoch 1881, loss 0.00017457817739341408\n",
      "epoch 1980, loss 8.067073940765113e-05\n"
     ]
    }
   ],
   "source": [
    "# training\n",
    "num_epochs = 2000\n",
    "learning_rate = 0.01\n",
    "input_size = 1\n",
    "hidden_size = 32\n",
    "num_layers = 2\n",
    "num_class = 1\n",
    "\n",
    "lstm = LSTM(num_class, input_size, hidden_size, num_layers)\n",
    "criterion = torch.nn.MSELoss()\n",
    "optimizer = torch.optim.Adam(lstm.parameters(), lr=learning_rate)\n",
    "\n",
    "for epoch in range(num_epochs):\n",
    "    outputs = lstm(train_X)\n",
    "    optimizer.zero_grad()\n",
    "    \n",
    "    loss = criterion(outputs, train_y)\n",
    "    loss.backward()\n",
    "    \n",
    "    optimizer.step()\n",
    "#     break\n",
    "    \n",
    "    if epoch % 99 == 0:\n",
    "        print('epoch {}, loss {}'.format(epoch, loss.item()))"
   ]
  },
  {
   "cell_type": "code",
   "execution_count": 18,
   "metadata": {},
   "outputs": [
    {
     "data": {
      "image/png": "[encoded data removed]",
      "text/plain": [
       "<Figure size 432x288 with 1 Axes>"
      ]
     },
     "metadata": {
      "needs_background": "light"
     },
     "output_type": "display_data"
    }
   ],
   "source": [
    "# eval\n",
    "lstm.eval()\n",
    "train_predict = lstm(data_X)\n",
    "\n",
    "data_predict = train_predict.data.numpy()\n",
    "data_plot = data_y.data.numpy()\n",
    "\n",
    "data_predict = scaler.inverse_transform(data_predict)\n",
    "data_plot = scaler.inverse_transform(data_plot)\n",
    "\n",
    "plt.axvline(x=train_size, c='g', linestyle='--')\n",
    "\n",
    "plt.plot(data_plot, label='true')\n",
    "plt.plot(data_predict, label='pred')\n",
    "plt.suptitle('Time Series Prediction')\n",
    "plt.legend()\n",
    "plt.show()"
   ]
  },
  {
   "cell_type": "code",
   "execution_count": null,
   "metadata": {},
   "outputs": [],
   "source": []
  },
  {
   "cell_type": "code",
   "execution_count": null,
   "metadata": {},
   "outputs": [],
   "source": []
  }
 ],
 "metadata": {
  "kernelspec": {
   "display_name": "Python 3",
   "language": "python",
   "name": "python3"
  },
  "language_info": {
   "codemirror_mode": {
    "name": "ipython",
    "version": 3
   },
   "file_extension": ".py",
   "mimetype": "text/x-python",
   "name": "python",
   "nbconvert_exporter": "python",
   "pygments_lexer": "ipython3",
   "version": "3.8.5"
  }
 },
 "nbformat": 4,
 "nbformat_minor": 4
}
