{
 "cells": [
  {
   "cell_type": "markdown",
   "metadata": {},
   "source": [
    "# 线性回归"
   ]
  },
  {
   "cell_type": "markdown",
   "metadata": {},
   "source": [
    "## 算法实现"
   ]
  },
  {
   "cell_type": "code",
   "execution_count": 1,
   "metadata": {},
   "outputs": [],
   "source": [
    "import random\n",
    "import torch\n",
    "from d2l import torch as d2l"
   ]
  },
  {
   "cell_type": "code",
   "execution_count": 2,
   "metadata": {},
   "outputs": [],
   "source": [
    "# 生成数据集\n",
    "def synthetic_data(w, b, num_examples):\n",
    "    X = torch.normal(0, 1, (num_examples, len(w)))\n",
    "    y = torch.matmul(X, w) + b  # 线性回归表达式matul为矩阵乘法\n",
    "    y += torch.normal(0, 0.01, y.shape)  # 误差项\n",
    "    return X, y.reshape(-1, 1)"
   ]
  },
  {
   "cell_type": "code",
   "execution_count": 3,
   "metadata": {},
   "outputs": [],
   "source": [
    "true_w = torch.tensor([2, -3.4])\n",
    "true_b = 4.2\n",
    "features, labels = synthetic_data(true_w, true_b, 1000)"
   ]
  },
  {
   "cell_type": "code",
   "execution_count": 4,
   "metadata": {},
   "outputs": [
    {
     "data": {
      "text/plain": [
       "(torch.Size([1000, 2]), torch.Size([2]))"
      ]
     },
     "execution_count": 4,
     "metadata": {},
     "output_type": "execute_result"
    }
   ],
   "source": [
    "features.shape, true_w.shape"
   ]
  },
  {
   "cell_type": "code",
   "execution_count": 5,
   "metadata": {},
   "outputs": [
    {
     "data": {
      "text/plain": [
       "<matplotlib.collections.PathCollection at 0x7fa820037f10>"
      ]
     },
     "execution_count": 5,
     "metadata": {},
     "output_type": "execute_result"
    },
    {
     "data": {
      "image/png": "[encoded data removed]",
      "text/plain": [
       "<Figure size 432x288 with 1 Axes>"
      ]
     },
     "metadata": {
      "needs_background": "light"
     },
     "output_type": "display_data"
    }
   ],
   "source": [
    "import matplotlib.pyplot as plt\n",
    "plt.scatter(features[:, 1].detach().numpy(), \n",
    "            labels.detach().numpy())"
   ]
  },
  {
   "cell_type": "code",
   "execution_count": 6,
   "metadata": {},
   "outputs": [],
   "source": [
    "# 读取数据\n",
    "def data_iter(batch_size, features, labels):\n",
    "    indices = list(range(len(features)))\n",
    "    seed = random.sample(indices, batch_size)  # 随机采样\n",
    "    batch_indices = torch.tensor(seed)\n",
    "    \n",
    "    return features[batch_indices], labels[batch_indices]"
   ]
  },
  {
   "cell_type": "code",
   "execution_count": 7,
   "metadata": {},
   "outputs": [
    {
     "data": {
      "text/plain": [
       "(tensor([[ 1.9536, -0.1682],\n",
       "         [ 0.3390, -1.1273],\n",
       "         [-0.8924,  1.9423],\n",
       "         [ 1.5252, -0.5477],\n",
       "         [ 1.4530,  0.7911],\n",
       "         [-0.0707, -2.4633],\n",
       "         [ 1.0008, -0.9420],\n",
       "         [ 1.0262, -0.4502],\n",
       "         [ 0.3523, -1.5049],\n",
       "         [ 0.1580,  1.1880]]),\n",
       " tensor([[ 8.6646],\n",
       "         [ 8.7149],\n",
       "         [-4.1769],\n",
       "         [ 9.1149],\n",
       "         [ 4.4135],\n",
       "         [12.4515],\n",
       "         [ 9.4139],\n",
       "         [ 7.7677],\n",
       "         [10.0351],\n",
       "         [ 0.4857]]))"
      ]
     },
     "execution_count": 7,
     "metadata": {},
     "output_type": "execute_result"
    }
   ],
   "source": [
    "batch_size = 10\n",
    "data_iter(batch_size, features, labels)"
   ]
  },
  {
   "cell_type": "code",
   "execution_count": 8,
   "metadata": {},
   "outputs": [],
   "source": [
    "# 初始化参数\n",
    "w = torch.normal(0, 0.01, size=(2, 1), requires_grad=True)\n",
    "b = torch.zeros(1, requires_grad=True)"
   ]
  },
  {
   "cell_type": "code",
   "execution_count": 9,
   "metadata": {},
   "outputs": [],
   "source": [
    "# 模型\n",
    "def linreg(X, w, b):\n",
    "    return torch.matmul(X, w) + b"
   ]
  },
  {
   "cell_type": "code",
   "execution_count": 10,
   "metadata": {},
   "outputs": [],
   "source": [
    "# 损失函数\n",
    "def loss(y_hat, y):\n",
    "    return (y_hat - y.reshape(y_hat.shape)) ** 2 / 2"
   ]
  },
  {
   "cell_type": "code",
   "execution_count": 11,
   "metadata": {},
   "outputs": [],
   "source": [
    "# 优化算法\n",
    "def sgd(params, lr, batch_size):\n",
    "    with torch.no_grad():\n",
    "        for param in params:\n",
    "            param -= lr * param.grad / batch_size\n",
    "            param.grad.zero_()"
   ]
  },
  {
   "cell_type": "code",
   "execution_count": 12,
   "metadata": {},
   "outputs": [],
   "source": [
    "# 训练\n",
    "lr = 0.03\n",
    "num_epoch = 100\n",
    "net = linreg\n",
    "loss = loss"
   ]
  },
  {
   "cell_type": "code",
   "execution_count": 13,
   "metadata": {
    "scrolled": true
   },
   "outputs": [
    {
     "name": "stdout",
     "output_type": "stream",
     "text": [
      "15.429717063903809\n",
      "14.034073829650879\n",
      "12.860908508300781\n",
      "12.134554862976074\n",
      "11.136482238769531\n",
      "10.591960906982422\n",
      "9.587727546691895\n",
      "8.895339965820312\n",
      "8.299766540527344\n",
      "7.892074108123779\n",
      "7.4004340171813965\n",
      "6.954316139221191\n",
      "6.379141330718994\n",
      "6.125821590423584\n",
      "5.796535015106201\n",
      "5.371085166931152\n",
      "5.025866508483887\n",
      "4.752532482147217\n",
      "4.579625606536865\n",
      "4.352716445922852\n",
      "4.098711013793945\n",
      "3.6842727661132812\n",
      "3.4257960319519043\n",
      "3.157592296600342\n",
      "2.9974417686462402\n",
      "2.8491899967193604\n",
      "2.675419807434082\n",
      "2.5962021350860596\n",
      "2.4792699813842773\n",
      "2.357949733734131\n",
      "2.2103893756866455\n",
      "2.030702829360962\n",
      "1.8900376558303833\n",
      "1.6809784173965454\n",
      "1.5783486366271973\n",
      "1.4335718154907227\n",
      "1.321648359298706\n",
      "1.2407723665237427\n",
      "1.2089781761169434\n",
      "1.1303491592407227\n",
      "1.0496695041656494\n",
      "0.977771520614624\n",
      "0.9454294443130493\n",
      "0.924163281917572\n",
      "0.8913150429725647\n",
      "0.8074803352355957\n",
      "0.7829912900924683\n",
      "0.7315351963043213\n",
      "0.6791532039642334\n",
      "0.6389425992965698\n",
      "0.6025265455245972\n",
      "0.5596216320991516\n",
      "0.5410734415054321\n",
      "0.48163434863090515\n",
      "0.44312337040901184\n",
      "0.41740626096725464\n",
      "0.381504625082016\n",
      "0.3641420304775238\n",
      "0.35068652033805847\n",
      "0.33400875329971313\n",
      "0.30930671095848083\n",
      "0.2947976291179657\n",
      "0.2729358375072479\n",
      "0.257301926612854\n",
      "0.24565289914608002\n",
      "0.22297510504722595\n",
      "0.20536161959171295\n",
      "0.19194534420967102\n",
      "0.18413110077381134\n",
      "0.1714794784784317\n",
      "0.1649535596370697\n",
      "0.155788391828537\n",
      "0.1511925607919693\n",
      "0.13796953856945038\n",
      "0.12761558592319489\n",
      "0.12033527344465256\n",
      "0.11316733062267303\n",
      "0.10699012875556946\n",
      "0.10257193446159363\n",
      "0.1001967340707779\n",
      "0.09235768020153046\n",
      "0.08617947995662689\n",
      "0.0805744081735611\n",
      "0.07694239914417267\n",
      "0.07281510531902313\n",
      "0.06994549930095673\n",
      "0.06837553530931473\n",
      "0.06362965703010559\n",
      "0.059706106781959534\n",
      "0.05746055766940117\n",
      "0.054706305265426636\n",
      "0.05115694925189018\n",
      "0.04895476624369621\n",
      "0.04696143418550491\n",
      "0.04360220208764076\n",
      "0.041314877569675446\n",
      "0.03888028487563133\n",
      "0.035748302936553955\n",
      "0.03381837531924248\n",
      "0.03201672062277794\n"
     ]
    }
   ],
   "source": [
    "for epoch in range(num_epoch):\n",
    "    X, y = data_iter(batch_size, features, labels)  # 生成batch\n",
    "    l = loss(net(X, w, b), y)  # 计算损失\n",
    "    l.sum().backward()  # 计算梯度\n",
    "    sgd([w, b], lr, batch_size)  # 更新参数\n",
    "    \n",
    "    with torch.no_grad():\n",
    "        print(loss(net(features, w, b), labels).mean().item())"
   ]
  },
  {
   "cell_type": "code",
   "execution_count": 14,
   "metadata": {},
   "outputs": [
    {
     "data": {
      "text/plain": [
       "(tensor([[ 1.8746],\n",
       "         [-3.2770]], requires_grad=True),\n",
       " tensor([4.0138], requires_grad=True))"
      ]
     },
     "execution_count": 14,
     "metadata": {},
     "output_type": "execute_result"
    }
   ],
   "source": [
    "w, b"
   ]
  },
  {
   "cell_type": "code",
   "execution_count": 15,
   "metadata": {},
   "outputs": [
    {
     "data": {
      "text/plain": [
       "(tensor([ 2.0000, -3.4000]), 4.2)"
      ]
     },
     "execution_count": 15,
     "metadata": {},
     "output_type": "execute_result"
    }
   ],
   "source": [
    "true_w, true_b"
   ]
  },
  {
   "cell_type": "markdown",
   "metadata": {},
   "source": [
    "## 基于pytorch快速实现"
   ]
  },
  {
   "cell_type": "code",
   "execution_count": 16,
   "metadata": {},
   "outputs": [],
   "source": [
    "true_w = torch.tensor([2, -3.4])\n",
    "true_b = 4.2\n",
    "features, labels = d2l.synthetic_data(true_w, true_b, 1000)"
   ]
  },
  {
   "cell_type": "code",
   "execution_count": 17,
   "metadata": {},
   "outputs": [],
   "source": [
    "import numpy as np\n",
    "from torch.utils import data\n",
    "def load_array(data_arrays, batch_size, is_train=True):\n",
    "    # pytorch数据迭代器\n",
    "    dataset = data.TensorDataset(*data_arrays)\n",
    "    return data.DataLoader(dataset, batch_size, shuffle=is_train)\n",
    "\n",
    "batch_size = 10\n",
    "data_iter = load_array((features, labels), batch_size)"
   ]
  },
  {
   "cell_type": "code",
   "execution_count": 18,
   "metadata": {},
   "outputs": [
    {
     "data": {
      "text/plain": [
       "[tensor([[ 0.8423, -2.0893],\n",
       "         [ 1.9727, -1.4814],\n",
       "         [-1.4002,  0.7915],\n",
       "         [ 2.5332, -0.9624],\n",
       "         [-0.9161, -0.5992],\n",
       "         [ 1.9685, -0.2768],\n",
       "         [ 0.6796,  1.1067],\n",
       "         [-1.3654, -0.5103],\n",
       "         [-0.4304,  0.7225],\n",
       "         [-0.3904,  1.1188]]),\n",
       " tensor([[12.9919],\n",
       "         [13.1710],\n",
       "         [-1.3002],\n",
       "         [12.5530],\n",
       "         [ 4.4138],\n",
       "         [ 9.0935],\n",
       "         [ 1.8102],\n",
       "         [ 3.2108],\n",
       "         [ 0.8891],\n",
       "         [-0.3865]])]"
      ]
     },
     "execution_count": 18,
     "metadata": {},
     "output_type": "execute_result"
    }
   ],
   "source": [
    "# next获取迭代器第一项\n",
    "next(iter(data_iter))"
   ]
  },
  {
   "cell_type": "code",
   "execution_count": 19,
   "metadata": {},
   "outputs": [],
   "source": [
    "from torch import nn\n",
    "net = nn.Sequential(nn.Linear(2, 1))"
   ]
  },
  {
   "cell_type": "code",
   "execution_count": 20,
   "metadata": {},
   "outputs": [
    {
     "data": {
      "text/plain": [
       "tensor([0.])"
      ]
     },
     "execution_count": 20,
     "metadata": {},
     "output_type": "execute_result"
    }
   ],
   "source": [
    "# 参数初始化\n",
    "net[0].weight.data.normal_(0, 0.01)\n",
    "net[0].bias.data.fill_(0)"
   ]
  },
  {
   "cell_type": "code",
   "execution_count": 21,
   "metadata": {},
   "outputs": [],
   "source": [
    "loss = nn.MSELoss()"
   ]
  },
  {
   "cell_type": "code",
   "execution_count": 22,
   "metadata": {},
   "outputs": [],
   "source": [
    "optimizer = torch.optim.SGD(net.parameters(), lr=0.03)"
   ]
  },
  {
   "cell_type": "code",
   "execution_count": 23,
   "metadata": {},
   "outputs": [
    {
     "name": "stdout",
     "output_type": "stream",
     "text": [
      "0.00021845901210326701\n",
      "0.0001028693513944745\n",
      "0.00010233555076410994\n",
      "0.00010341021697968245\n",
      "0.00010253209620714188\n",
      "0.00010260113776894286\n",
      "0.00010310013749403879\n",
      "0.00010284079326083884\n",
      "0.00010338085849070922\n",
      "0.00010437140008434653\n"
     ]
    }
   ],
   "source": [
    "# 训练\n",
    "for epoch in range(10):\n",
    "    for X, y in data_iter:\n",
    "        l = loss(net(X), y)\n",
    "        optimizer.zero_grad()\n",
    "        l.backward()\n",
    "        optimizer.step()\n",
    "    \n",
    "    print(loss(net(features), labels).mean().item())"
   ]
  },
  {
   "cell_type": "markdown",
   "metadata": {},
   "source": [
    "# Softmax回归"
   ]
  },
  {
   "cell_type": "code",
   "execution_count": 24,
   "metadata": {},
   "outputs": [],
   "source": [
    "import torch\n",
    "import torchvision\n",
    "from torch.utils import data\n",
    "from torchvision import transforms"
   ]
  },
  {
   "cell_type": "code",
   "execution_count": 25,
   "metadata": {},
   "outputs": [],
   "source": [
    "# 读取数据集\n",
    "trans = transforms.ToTensor()\n",
    "mnist_train = torchvision.datasets.FashionMNIST(root=\"../data\", train=True,\n",
    "                                               transform=trans, download=True)\n",
    "mnist_test = torchvision.datasets.FashionMNIST(root=\"../data\", train=False,\n",
    "                                               transform=trans, download=True)\n"
   ]
  },
  {
   "cell_type": "code",
   "execution_count": 26,
   "metadata": {},
   "outputs": [
    {
     "data": {
      "text/plain": [
       "torch.Size([1, 28, 28])"
      ]
     },
     "execution_count": 26,
     "metadata": {},
     "output_type": "execute_result"
    }
   ],
   "source": [
    "mnist_train[0][0].shape  # 1个通道，28*28"
   ]
  },
  {
   "cell_type": "code",
   "execution_count": 27,
   "metadata": {},
   "outputs": [],
   "source": [
    "batch_size = 256\n",
    "train_iter = data.DataLoader(mnist_train, batch_size, shuffle=True, \n",
    "                             num_workers=4)\n",
    "test_iter = data.DataLoader(mnist_test, batch_size, shuffle=False, \n",
    "                             num_workers=4)"
   ]
  },
  {
   "cell_type": "markdown",
   "metadata": {},
   "source": [
    "## 算法实现"
   ]
  },
  {
   "cell_type": "code",
   "execution_count": 28,
   "metadata": {},
   "outputs": [
    {
     "data": {
      "text/plain": [
       "Sequential(\n",
       "  (0): Flatten(start_dim=1, end_dim=-1)\n",
       "  (1): Linear(in_features=784, out_features=10, bias=True)\n",
       ")"
      ]
     },
     "execution_count": 28,
     "metadata": {},
     "output_type": "execute_result"
    }
   ],
   "source": [
    "# 初始化参数\n",
    "net = nn.Sequential(nn.Flatten(), nn.Linear(784, 10))\n",
    "\n",
    "def init_weights(m):\n",
    "    if type(m) == nn.Linear:\n",
    "        nn.init.normal_(m.weight, std=0.01)\n",
    "net.apply(init_weights)"
   ]
  },
  {
   "cell_type": "code",
   "execution_count": 29,
   "metadata": {},
   "outputs": [],
   "source": [
    "# 损失函数\n",
    "loss = nn.CrossEntropyLoss()\n",
    "# 优化器\n",
    "optimizer = torch.optim.SGD(net.parameters(), lr=0.1)"
   ]
  },
  {
   "cell_type": "code",
   "execution_count": 30,
   "metadata": {},
   "outputs": [],
   "source": [
    "def accuracy(y_hat, y):  #@save\n",
    "    \"\"\"计算预测正确的数量。\"\"\"\n",
    "    if len(y_hat.shape) > 1 and y_hat.shape[1] > 1:\n",
    "        y_hat = y_hat.argmax(axis=1)\n",
    "    cmp = y_hat.type(y.dtype) == y\n",
    "    return float(cmp.type(y.dtype).sum())"
   ]
  },
  {
   "cell_type": "code",
   "execution_count": 31,
   "metadata": {},
   "outputs": [],
   "source": [
    "def evaluate_accuracy(net, data_iter):  #@save\n",
    "    \"\"\"计算在指定数据集上模型的精度。\"\"\"\n",
    "    if isinstance(net, torch.nn.Module):\n",
    "        net.eval()  # 将模型设置为评估模式\n",
    "    metric = Accumulator(2)  # 正确预测数、预测总数\n",
    "    for X, y in data_iter:\n",
    "        metric.add(accuracy(net(X), y), y.numel())\n",
    "    return metric[0] / metric[1]"
   ]
  },
  {
   "cell_type": "code",
   "execution_count": 32,
   "metadata": {},
   "outputs": [],
   "source": [
    "class Accumulator:  #@save\n",
    "    \"\"\"在`n`个变量上累加。\"\"\"\n",
    "    def __init__(self, n):\n",
    "        self.data = [0.0] * n\n",
    "\n",
    "    def add(self, *args):\n",
    "        self.data = [a + float(b) for a, b in zip(self.data, args)]\n",
    "\n",
    "    def reset(self):\n",
    "        self.data = [0.0] * len(self.data)\n",
    "\n",
    "    def __getitem__(self, idx):\n",
    "        return self.data[idx]"
   ]
  },
  {
   "cell_type": "code",
   "execution_count": 33,
   "metadata": {},
   "outputs": [
    {
     "name": "stdout",
     "output_type": "stream",
     "text": [
      "0.7596\n",
      "0.8087\n",
      "0.8143\n",
      "0.8232\n",
      "0.8288\n",
      "0.8254\n",
      "0.823\n",
      "0.8317\n",
      "0.8325\n",
      "0.8345\n"
     ]
    }
   ],
   "source": [
    "# 训练\n",
    "for epoch in range(10):\n",
    "    for X, y in train_iter:\n",
    "        l = loss(net(X), y)\n",
    "        optimizer.zero_grad()\n",
    "        l.backward()\n",
    "        optimizer.step()\n",
    "    print(evaluate_accuracy(net, test_iter))"
   ]
  },
  {
   "cell_type": "code",
   "execution_count": null,
   "metadata": {},
   "outputs": [],
   "source": []
  },
  {
   "cell_type": "code",
   "execution_count": null,
   "metadata": {},
   "outputs": [],
   "source": []
  },
  {
   "cell_type": "code",
   "execution_count": null,
   "metadata": {},
   "outputs": [],
   "source": []
  }
 ],
 "metadata": {
  "kernelspec": {
   "display_name": "Python 3",
   "language": "python",
   "name": "python3"
  },
  "language_info": {
   "codemirror_mode": {
    "name": "ipython",
    "version": 3
   },
   "file_extension": ".py",
   "mimetype": "text/x-python",
   "name": "python",
   "nbconvert_exporter": "python",
   "pygments_lexer": "ipython3",
   "version": "3.8.5"
  }
 },
 "nbformat": 4,
 "nbformat_minor": 4
}
