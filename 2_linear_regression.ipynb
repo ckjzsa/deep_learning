{
 "cells": [
  {
   "cell_type": "markdown",
   "metadata": {},
   "source": [
    "# 线性回归"
   ]
  },
  {
   "cell_type": "markdown",
   "metadata": {},
   "source": [
    "## 算法实现"
   ]
  },
  {
   "cell_type": "code",
   "execution_count": 1,
   "metadata": {},
   "outputs": [],
   "source": [
    "import random\n",
    "import torch\n",
    "from d2l import torch as d2l"
   ]
  },
  {
   "cell_type": "code",
   "execution_count": 2,
   "metadata": {},
   "outputs": [],
   "source": [
    "# 生成数据集\n",
    "def synthetic_data(w, b, num_examples):\n",
    "    X = torch.normal(0, 1, (num_examples, len(w)))\n",
    "    y = torch.matmul(X, w) + b  # 线性回归表达式matul为矩阵乘法\n",
    "    y += torch.normal(0, 0.01, y.shape)  # 误差项\n",
    "    return X, y.reshape(-1, 1)"
   ]
  },
  {
   "cell_type": "code",
   "execution_count": 3,
   "metadata": {},
   "outputs": [],
   "source": [
    "true_w = torch.tensor([2, -3.4])\n",
    "true_b = 4.2\n",
    "features, labels = synthetic_data(true_w, true_b, 1000)"
   ]
  },
  {
   "cell_type": "code",
   "execution_count": 4,
   "metadata": {},
   "outputs": [
    {
     "data": {
      "text/plain": [
       "(torch.Size([1000, 2]), torch.Size([2]))"
      ]
     },
     "execution_count": 4,
     "metadata": {},
     "output_type": "execute_result"
    }
   ],
   "source": [
    "features.shape, true_w.shape"
   ]
  },
  {
   "cell_type": "code",
   "execution_count": 5,
   "metadata": {},
   "outputs": [
    {
     "data": {
      "text/plain": [
       "<matplotlib.collections.PathCollection at 0x7fd310541130>"
      ]
     },
     "execution_count": 5,
     "metadata": {},
     "output_type": "execute_result"
    },
    {
     "data": {
      "image/png": "[encoded data removed]",
      "text/plain": [
       "<Figure size 432x288 with 1 Axes>"
      ]
     },
     "metadata": {
      "needs_background": "light"
     },
     "output_type": "display_data"
    }
   ],
   "source": [
    "import matplotlib.pyplot as plt\n",
    "plt.scatter(features[:, 1].detach().numpy(), \n",
    "            labels.detach().numpy())"
   ]
  },
  {
   "cell_type": "code",
   "execution_count": 6,
   "metadata": {},
   "outputs": [],
   "source": [
    "# 读取数据\n",
    "def data_iter(batch_size, features, labels):\n",
    "    indices = list(range(len(features)))\n",
    "    seed = random.sample(indices, batch_size)  # 随机采样\n",
    "    batch_indices = torch.tensor(seed)\n",
    "    \n",
    "    return features[batch_indices], labels[batch_indices]"
   ]
  },
  {
   "cell_type": "code",
   "execution_count": 7,
   "metadata": {},
   "outputs": [
    {
     "data": {
      "text/plain": [
       "(tensor([[ 0.6834,  0.5068],\n",
       "         [-0.2453,  0.0703],\n",
       "         [-0.6138,  0.8427],\n",
       "         [-1.1277, -0.8712],\n",
       "         [-0.1761, -0.6479],\n",
       "         [ 1.5098, -0.3805],\n",
       "         [-2.3781, -1.0605],\n",
       "         [-0.5929, -0.6986],\n",
       "         [ 0.9717,  0.0712],\n",
       "         [-0.1796, -1.6073]]),\n",
       " tensor([[3.8397],\n",
       "         [3.4722],\n",
       "         [0.1107],\n",
       "         [4.9066],\n",
       "         [6.0436],\n",
       "         [8.5124],\n",
       "         [3.0371],\n",
       "         [5.3934],\n",
       "         [5.8997],\n",
       "         [9.3271]]))"
      ]
     },
     "execution_count": 7,
     "metadata": {},
     "output_type": "execute_result"
    }
   ],
   "source": [
    "batch_size = 10\n",
    "data_iter(batch_size, features, labels)"
   ]
  },
  {
   "cell_type": "code",
   "execution_count": 8,
   "metadata": {},
   "outputs": [],
   "source": [
    "# 初始化参数\n",
    "w = torch.normal(0, 0.01, size=(2, 1), requires_grad=True)\n",
    "b = torch.zeros(1, requires_grad=True)"
   ]
  },
  {
   "cell_type": "code",
   "execution_count": 9,
   "metadata": {},
   "outputs": [],
   "source": [
    "# 模型\n",
    "def linreg(X, w, b):\n",
    "    return torch.matmul(X, w) + b"
   ]
  },
  {
   "cell_type": "code",
   "execution_count": 10,
   "metadata": {},
   "outputs": [],
   "source": [
    "# 损失函数\n",
    "def loss(y_hat, y):\n",
    "    return (y_hat - y.reshape(y_hat.shape)) ** 2 / 2"
   ]
  },
  {
   "cell_type": "code",
   "execution_count": 11,
   "metadata": {},
   "outputs": [],
   "source": [
    "# 优化算法\n",
    "def sgd(params, lr, batch_size):\n",
    "    with torch.no_grad():\n",
    "        for param in params:\n",
    "            param -= lr * param.grad / batch_size\n",
    "            param.grad.zero_()"
   ]
  },
  {
   "cell_type": "code",
   "execution_count": 12,
   "metadata": {},
   "outputs": [],
   "source": [
    "# 训练\n",
    "lr = 0.03\n",
    "num_epoch = 100\n",
    "net = linreg\n",
    "loss = loss"
   ]
  },
  {
   "cell_type": "code",
   "execution_count": 13,
   "metadata": {
    "scrolled": true
   },
   "outputs": [
    {
     "name": "stdout",
     "output_type": "stream",
     "text": [
      "15.910922050476074\n",
      "14.629304885864258\n",
      "14.392549514770508\n",
      "13.704343795776367\n",
      "12.300622940063477\n",
      "11.634050369262695\n",
      "10.983946800231934\n",
      "10.199801445007324\n",
      "9.660699844360352\n",
      "8.853485107421875\n",
      "8.620062828063965\n",
      "8.035977363586426\n",
      "7.573200225830078\n",
      "7.325258731842041\n",
      "6.8852739334106445\n",
      "6.5228447914123535\n",
      "6.209485054016113\n",
      "5.769776344299316\n",
      "5.4475507736206055\n",
      "5.054440975189209\n",
      "4.64457893371582\n",
      "4.355910301208496\n",
      "4.020168304443359\n",
      "3.8632607460021973\n",
      "3.5449559688568115\n",
      "3.3017990589141846\n",
      "3.0682532787323\n",
      "2.886950969696045\n",
      "2.8370394706726074\n",
      "2.615515947341919\n",
      "2.4664864540100098\n",
      "2.2086620330810547\n",
      "1.9969673156738281\n",
      "1.8467344045639038\n",
      "1.7426880598068237\n",
      "1.686612606048584\n",
      "1.585883378982544\n",
      "1.5066642761230469\n",
      "1.4320176839828491\n",
      "1.3226470947265625\n",
      "1.252927303314209\n",
      "1.1082854270935059\n",
      "1.0397487878799438\n",
      "0.9898808002471924\n",
      "0.9041526913642883\n",
      "0.8717547655105591\n",
      "0.835541844367981\n",
      "0.7999349236488342\n",
      "0.7648505568504333\n",
      "0.7049667239189148\n",
      "0.6848000288009644\n",
      "0.6446859836578369\n",
      "0.5829023122787476\n",
      "0.5521172881126404\n",
      "0.5304647088050842\n",
      "0.513719916343689\n",
      "0.49696484208106995\n",
      "0.46690258383750916\n",
      "0.44248393177986145\n",
      "0.4179443418979645\n",
      "0.39533326029777527\n",
      "0.38169369101524353\n",
      "0.341804563999176\n",
      "0.32601380348205566\n",
      "0.2936112880706787\n",
      "0.27921029925346375\n",
      "0.2619438171386719\n",
      "0.24503718316555023\n",
      "0.23466803133487701\n",
      "0.2089345008134842\n",
      "0.19495700299739838\n",
      "0.18947337567806244\n",
      "0.18442046642303467\n",
      "0.17166605591773987\n",
      "0.16443514823913574\n",
      "0.15747825801372528\n",
      "0.15078024566173553\n",
      "0.13819998502731323\n",
      "0.13152311742305756\n",
      "0.12373919785022736\n",
      "0.12015864253044128\n",
      "0.11609843373298645\n",
      "0.10201547294855118\n",
      "0.0961383506655693\n",
      "0.08697383105754852\n",
      "0.08081042766571045\n",
      "0.07317424565553665\n",
      "0.06978794932365417\n",
      "0.06408561766147614\n",
      "0.06009675934910774\n",
      "0.058838412165641785\n",
      "0.05616820976138115\n",
      "0.05345546826720238\n",
      "0.04793529212474823\n",
      "0.04266158118844032\n",
      "0.040413375943899155\n",
      "0.03854750096797943\n",
      "0.037145428359508514\n",
      "0.03612412139773369\n",
      "0.03347107768058777\n"
     ]
    }
   ],
   "source": [
    "for epoch in range(num_epoch):\n",
    "    X, y = data_iter(batch_size, features, labels)  # 生成batch\n",
    "    l = loss(net(X, w, b), y)  # 计算损失\n",
    "    l.sum().backward()  # 计算梯度\n",
    "    sgd([w, b], lr, batch_size)  # 更新参数\n",
    "    \n",
    "    with torch.no_grad():\n",
    "        print(loss(net(features, w, b), labels).mean().item())"
   ]
  },
  {
   "cell_type": "code",
   "execution_count": 14,
   "metadata": {},
   "outputs": [
    {
     "data": {
      "text/plain": [
       "(tensor([[ 1.9030],\n",
       "         [-3.2621]], requires_grad=True),\n",
       " tensor([4.0039], requires_grad=True))"
      ]
     },
     "execution_count": 14,
     "metadata": {},
     "output_type": "execute_result"
    }
   ],
   "source": [
    "w, b"
   ]
  },
  {
   "cell_type": "code",
   "execution_count": 15,
   "metadata": {},
   "outputs": [
    {
     "data": {
      "text/plain": [
       "(tensor([ 2.0000, -3.4000]), 4.2)"
      ]
     },
     "execution_count": 15,
     "metadata": {},
     "output_type": "execute_result"
    }
   ],
   "source": [
    "true_w, true_b"
   ]
  },
  {
   "cell_type": "markdown",
   "metadata": {},
   "source": [
    "## 基于pytorch快速实现"
   ]
  },
  {
   "cell_type": "code",
   "execution_count": 16,
   "metadata": {},
   "outputs": [],
   "source": [
    "true_w = torch.tensor([2, -3.4])\n",
    "true_b = 4.2\n",
    "features, labels = d2l.synthetic_data(true_w, true_b, 1000)"
   ]
  },
  {
   "cell_type": "code",
   "execution_count": 17,
   "metadata": {},
   "outputs": [],
   "source": [
    "import numpy as np\n",
    "from torch.utils import data\n",
    "def load_array(data_arrays, batch_size, is_train=True):\n",
    "    # pytorch数据迭代器\n",
    "    dataset = data.TensorDataset(*data_arrays)\n",
    "    return data.DataLoader(dataset, batch_size, shuffle=is_train)\n",
    "\n",
    "batch_size = 10\n",
    "data_iter = load_array((features, labels), batch_size)"
   ]
  },
  {
   "cell_type": "code",
   "execution_count": 18,
   "metadata": {},
   "outputs": [
    {
     "data": {
      "text/plain": [
       "[tensor([[ 0.8423, -2.0893],\n",
       "         [ 1.9727, -1.4814],\n",
       "         [-1.4002,  0.7915],\n",
       "         [ 2.5332, -0.9624],\n",
       "         [-0.9161, -0.5992],\n",
       "         [ 1.9685, -0.2768],\n",
       "         [ 0.6796,  1.1067],\n",
       "         [-1.3654, -0.5103],\n",
       "         [-0.4304,  0.7225],\n",
       "         [-0.3904,  1.1188]]),\n",
       " tensor([[12.9919],\n",
       "         [13.1710],\n",
       "         [-1.3002],\n",
       "         [12.5530],\n",
       "         [ 4.4138],\n",
       "         [ 9.0935],\n",
       "         [ 1.8102],\n",
       "         [ 3.2108],\n",
       "         [ 0.8891],\n",
       "         [-0.3865]])]"
      ]
     },
     "execution_count": 18,
     "metadata": {},
     "output_type": "execute_result"
    }
   ],
   "source": [
    "# next获取迭代器第一项\n",
    "next(iter(data_iter))"
   ]
  },
  {
   "cell_type": "code",
   "execution_count": 19,
   "metadata": {},
   "outputs": [],
   "source": [
    "from torch import nn\n",
    "net = nn.Sequential(nn.Linear(2, 1))"
   ]
  },
  {
   "cell_type": "code",
   "execution_count": 20,
   "metadata": {},
   "outputs": [
    {
     "data": {
      "text/plain": [
       "tensor([0.])"
      ]
     },
     "execution_count": 20,
     "metadata": {},
     "output_type": "execute_result"
    }
   ],
   "source": [
    "# 参数初始化\n",
    "net[0].weight.data.normal_(0, 0.01)\n",
    "net[0].bias.data.fill_(0)"
   ]
  },
  {
   "cell_type": "code",
   "execution_count": 21,
   "metadata": {},
   "outputs": [],
   "source": [
    "loss = nn.MSELoss()"
   ]
  },
  {
   "cell_type": "code",
   "execution_count": 22,
   "metadata": {},
   "outputs": [],
   "source": [
    "optimizer = torch.optim.SGD(net.parameters(), lr=0.03)"
   ]
  },
  {
   "cell_type": "code",
   "execution_count": 23,
   "metadata": {},
   "outputs": [
    {
     "name": "stdout",
     "output_type": "stream",
     "text": [
      "0.00021845901210326701\n",
      "0.0001028693513944745\n",
      "0.00010233555076410994\n",
      "0.00010341021697968245\n",
      "0.00010253209620714188\n",
      "0.00010260113776894286\n",
      "0.00010310013749403879\n",
      "0.00010284079326083884\n",
      "0.00010338085849070922\n",
      "0.00010437140008434653\n"
     ]
    }
   ],
   "source": [
    "# 训练\n",
    "for epoch in range(10):\n",
    "    for X, y in data_iter:\n",
    "        l = loss(net(X), y)\n",
    "        optimizer.zero_grad()\n",
    "        l.backward()\n",
    "        optimizer.step()\n",
    "    \n",
    "    print(loss(net(features), labels).mean().item())"
   ]
  },
  {
   "cell_type": "markdown",
   "metadata": {},
   "source": [
    "# Softmax回归"
   ]
  },
  {
   "cell_type": "code",
   "execution_count": 24,
   "metadata": {},
   "outputs": [],
   "source": [
    "import torch\n",
    "import torchvision\n",
    "from torch.utils import data\n",
    "from torchvision import transforms"
   ]
  },
  {
   "cell_type": "code",
   "execution_count": 25,
   "metadata": {},
   "outputs": [],
   "source": [
    "# 读取数据集\n",
    "trans = transforms.ToTensor()\n",
    "mnist_train = torchvision.datasets.FashionMNIST(root=\"../data\", train=True,\n",
    "                                               transform=trans, download=True)\n",
    "mnist_test = torchvision.datasets.FashionMNIST(root=\"../data\", train=False,\n",
    "                                               transform=trans, download=True)\n"
   ]
  },
  {
   "cell_type": "code",
   "execution_count": 26,
   "metadata": {},
   "outputs": [
    {
     "data": {
      "text/plain": [
       "torch.Size([1, 28, 28])"
      ]
     },
     "execution_count": 26,
     "metadata": {},
     "output_type": "execute_result"
    }
   ],
   "source": [
    "mnist_train[0][0].shape  # 1个通道，28*28"
   ]
  },
  {
   "cell_type": "code",
   "execution_count": 27,
   "metadata": {},
   "outputs": [],
   "source": [
    "batch_size = 256\n",
    "train_iter = data.DataLoader(mnist_train, batch_size, shuffle=True, \n",
    "                             num_workers=4)\n",
    "test_iter = data.DataLoader(mnist_test, batch_size, shuffle=False, \n",
    "                             num_workers=4)"
   ]
  },
  {
   "cell_type": "markdown",
   "metadata": {},
   "source": [
    "## 算法实现"
   ]
  },
  {
   "cell_type": "code",
   "execution_count": 28,
   "metadata": {},
   "outputs": [
    {
     "data": {
      "text/plain": [
       "Sequential(\n",
       "  (0): Flatten(start_dim=1, end_dim=-1)\n",
       "  (1): Linear(in_features=784, out_features=10, bias=True)\n",
       ")"
      ]
     },
     "execution_count": 28,
     "metadata": {},
     "output_type": "execute_result"
    }
   ],
   "source": [
    "# 初始化参数\n",
    "net = nn.Sequential(nn.Flatten(), nn.Linear(784, 10))\n",
    "\n",
    "def init_weights(m):\n",
    "    if type(m) == nn.Linear:\n",
    "        nn.init.normal_(m.weight, std=0.01)\n",
    "net.apply(init_weights)"
   ]
  },
  {
   "cell_type": "code",
   "execution_count": 29,
   "metadata": {},
   "outputs": [],
   "source": [
    "# 损失函数\n",
    "loss = nn.CrossEntropyLoss()\n",
    "# 优化器\n",
    "optimizer = torch.optim.SGD(net.parameters(), lr=0.1)"
   ]
  },
  {
   "cell_type": "code",
   "execution_count": 30,
   "metadata": {},
   "outputs": [],
   "source": [
    "def accuracy(y_hat, y):  #@save\n",
    "    \"\"\"计算预测正确的数量。\"\"\"\n",
    "    if len(y_hat.shape) > 1 and y_hat.shape[1] > 1:\n",
    "        y_hat = y_hat.argmax(axis=1)\n",
    "    cmp = y_hat.type(y.dtype) == y\n",
    "    return float(cmp.type(y.dtype).sum())"
   ]
  },
  {
   "cell_type": "code",
   "execution_count": 31,
   "metadata": {},
   "outputs": [],
   "source": [
    "def evaluate_accuracy(net, data_iter):  #@save\n",
    "    \"\"\"计算在指定数据集上模型的精度。\"\"\"\n",
    "    if isinstance(net, torch.nn.Module):\n",
    "        net.eval()  # 将模型设置为评估模式\n",
    "    metric = Accumulator(2)  # 正确预测数、预测总数\n",
    "    for X, y in data_iter:\n",
    "        metric.add(accuracy(net(X), y), y.numel())\n",
    "    return metric[0] / metric[1]"
   ]
  },
  {
   "cell_type": "code",
   "execution_count": 32,
   "metadata": {},
   "outputs": [],
   "source": [
    "class Accumulator:  #@save\n",
    "    \"\"\"在`n`个变量上累加。\"\"\"\n",
    "    def __init__(self, n):\n",
    "        self.data = [0.0] * n\n",
    "\n",
    "    def add(self, *args):\n",
    "        self.data = [a + float(b) for a, b in zip(self.data, args)]\n",
    "\n",
    "    def reset(self):\n",
    "        self.data = [0.0] * len(self.data)\n",
    "\n",
    "    def __getitem__(self, idx):\n",
    "        return self.data[idx]"
   ]
  },
  {
   "cell_type": "code",
   "execution_count": 33,
   "metadata": {},
   "outputs": [
    {
     "name": "stdout",
     "output_type": "stream",
     "text": [
      "0.7596\n",
      "0.8087\n",
      "0.8143\n",
      "0.8232\n",
      "0.8288\n",
      "0.8254\n",
      "0.823\n",
      "0.8317\n",
      "0.8325\n",
      "0.8345\n"
     ]
    }
   ],
   "source": [
    "# 训练\n",
    "for epoch in range(10):\n",
    "    for X, y in train_iter:\n",
    "        l = loss(net(X), y)\n",
    "        optimizer.zero_grad()\n",
    "        l.backward()\n",
    "        optimizer.step()\n",
    "    print(evaluate_accuracy(net, test_iter))"
   ]
  },
  {
   "cell_type": "code",
   "execution_count": null,
   "metadata": {},
   "outputs": [],
   "source": []
  },
  {
   "cell_type": "code",
   "execution_count": null,
   "metadata": {},
   "outputs": [],
   "source": []
  },
  {
   "cell_type": "code",
   "execution_count": null,
   "metadata": {},
   "outputs": [],
   "source": []
  }
 ],
 "metadata": {
  "kernelspec": {
   "display_name": "Python 3",
   "language": "python",
   "name": "python3"
  },
  "language_info": {
   "codemirror_mode": {
    "name": "ipython",
    "version": 3
   },
   "file_extension": ".py",
   "mimetype": "text/x-python",
   "name": "python",
   "nbconvert_exporter": "python",
   "pygments_lexer": "ipython3",
   "version": "3.8.5"
  }
 },
 "nbformat": 4,
 "nbformat_minor": 4
}
